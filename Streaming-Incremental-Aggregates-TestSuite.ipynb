{
 "cells": [
  {
   "cell_type": "code",
   "execution_count": 0,
   "metadata": {
    "application/vnd.databricks.v1+cell": {
     "cellMetadata": {
      "byteLimit": 2048000,
      "rowLimit": 10000
     },
     "inputWidgets": {},
     "nuid": "9d524e43-cd24-4284-9caf-8b843f1d0d49",
     "showTitle": false,
     "tableResultSettingsMap": {},
     "title": ""
    }
   },
   "outputs": [],
   "source": [
    "%run ./Streaming-Incremental-Aggregates"
   ]
  },
  {
   "cell_type": "code",
   "execution_count": 0,
   "metadata": {
    "application/vnd.databricks.v1+cell": {
     "cellMetadata": {
      "byteLimit": 2048000,
      "rowLimit": 10000
     },
     "inputWidgets": {},
     "nuid": "0b53e6c2-275e-466b-9361-cbd154ef367e",
     "showTitle": false,
     "tableResultSettingsMap": {},
     "title": ""
    }
   },
   "outputs": [],
   "source": [
    "import time\n",
    "from pyspark.sql.functions import expr"
   ]
  },
  {
   "cell_type": "code",
   "execution_count": 0,
   "metadata": {
    "application/vnd.databricks.v1+cell": {
     "cellMetadata": {
      "byteLimit": 2048000,
      "rowLimit": 10000
     },
     "inputWidgets": {},
     "nuid": "e3870d35-4e00-420b-9337-af28b021d9fb",
     "showTitle": false,
     "tableResultSettingsMap": {},
     "title": ""
    }
   },
   "outputs": [],
   "source": [
    "class AggregationTestSuite():\n",
    "    def __init__(self):\n",
    "        self.base_data_dir = \"/FileStore/test\"\n",
    "\n",
    "    def cleanTests(self):\n",
    "        print(f\"Starting Cleanup...\")\n",
    "        spark.sql(\"drop table if exists invoices_bz\")\n",
    "        spark.sql(\"drop table if exists customer_rewards\")\n",
    "        dbutils.fs.rm(\"/user/hive/warehouse/invoices_bz\", True)\n",
    "        dbutils.fs.rm(\"/user/hive/warehouse/customer_rewards\", True)\n",
    "\n",
    "        dbutils.fs.rm(f\"{self.base_data_dir}/checkpoint/invoices_bz\", True)\n",
    "        dbutils.fs.rm(f\"{self.base_data_dir}/checkpoint/customer_rewards\", True)\n",
    "\n",
    "        dbutils.fs.rm(f\"{self.base_data_dir}/data/invoices\", True)\n",
    "        dbutils.fs.mkdirs(f\"{self.base_data_dir}/data/invoices\")\n",
    "        print(\"Done\")\n",
    "\n",
    "    def ingestData(self, itr):\n",
    "        print(f\"Starting Ingestion...\")\n",
    "        dbutils.fs.cp(f\"{self.base_data_dir}/invoices_{itr}.json\", f\"{self.base_data_dir}/data/invoices/\")\n",
    "        print(\"File moved successfully.\")\n",
    "\n",
    "    def assertBronze(self, expected_count):\n",
    "        print(f\"Starting Bronze validation...\")\n",
    "        actual_count = spark.sql(\"select count(*) from invoices_bz\").collect()[0][0]\n",
    "        assert expected_count == actual_count, f\"Test failed! actual count is {actual_count}\"\n",
    "        print(\"Bronze Test Passed Successfully.\")\n",
    "\n",
    "    def assertGold(self, expected_value):\n",
    "        print(f\"Starting Gold validation...\")\n",
    "        actual_value = spark.sql(\"select TotalAmount from customer_rewards where CustomerCardNo = '2262471989'\").collect()[0][0]\n",
    "        assert expected_value == actual_value, f\"Test failed! actual value is {actual_value}\"\n",
    "        print(\"Bronze Test Passed Successfully.\")\n",
    "\n",
    "    def waitForMicroBatch(self, sleep=150):\n",
    "        print(f\"Waiting for {sleep} seconds...\", end='')\n",
    "        time.sleep(sleep)\n",
    "        print(\"Done.\")    \n",
    "\n",
    "    def runTests(self):\n",
    "        spark.conf.set(\"spark.sql.streaming.stateStore.providerClass\",\n",
    "                       \"com.databricks.sql.streaming.state.RocksDBStateStoreProvider\")\n",
    "        self.cleanTests()\n",
    "\n",
    "        spark.sql(\"CREATE TABLE customer_rewards (CustomerCardNo string, TotalAmount double, TotalPoints double)\")\n",
    "\n",
    "        bzStream = Bronze()\n",
    "        bzQuery = bzStream.process()\n",
    "\n",
    "        gdStream = Gold()\n",
    "        gdQuery = gdStream.process()       \n",
    "\n",
    "        print(\"\\nTesting first iteration of invoice stream...\") \n",
    "        self.ingestData(1)\n",
    "        self.waitForMicroBatch()        \n",
    "        self.assertBronze(501)\n",
    "        self.assertGold(36859)\n",
    "        print(\"First iteration of validations passed.\\n\")\n",
    "\n",
    "        print(\"\\nTesting second iteration of invoice stream...\") \n",
    "        self.ingestData(2)\n",
    "        self.waitForMicroBatch()        \n",
    "        self.assertBronze(501+500)\n",
    "        self.assertGold(36859+20740)\n",
    "        print(\"Second iteration of validations passed.n\")\n",
    "\n",
    "        print(\"\\nTesting third iteration of invoice stream...\") \n",
    "        self.ingestData(3)\n",
    "        self.waitForMicroBatch()        \n",
    "        self.assertBronze(501+500+590)\n",
    "        self.assertGold(36859+20740+31959)\n",
    "        print(\"Third iteration of validations passed.\\n\")\n",
    "\n",
    "        bzQuery.stop()\n",
    "        gdQuery.stop()\n"
   ]
  },
  {
   "cell_type": "code",
   "execution_count": 0,
   "metadata": {
    "application/vnd.databricks.v1+cell": {
     "cellMetadata": {
      "byteLimit": 2048000,
      "rowLimit": 10000
     },
     "inputWidgets": {},
     "nuid": "9e67cc2b-c095-4419-bd71-182ef18eea5f",
     "showTitle": false,
     "tableResultSettingsMap": {},
     "title": ""
    }
   },
   "outputs": [
    {
     "output_type": "stream",
     "name": "stdout",
     "output_type": "stream",
     "text": [
      "Starting Cleanup...\nDone\nStarting Bronze Stream ...\nDone\n\nStarting Gold Stream ...\n\nTesting first iteration of invoice stream...\nStarting Ingestion...\nFile moved successfully.\nWaiting for 150 seconds...Done.\nStarting Bronze validation...\nBronze Test Passed Successfully.\nStarting Gold validation...\n"
     ]
    },
    {
     "output_type": "display_data",
     "data": {
      "text/plain": [
       "\u001B[0;31m---------------------------------------------------------------------------\u001B[0m\n",
       "\u001B[0;31mIndexError\u001B[0m                                Traceback (most recent call last)\n",
       "File \u001B[0;32m<command-2450280733892093>, line 2\u001B[0m\n",
       "\u001B[1;32m      1\u001B[0m aTS \u001B[38;5;241m=\u001B[39m AggregationTestSuite()\n",
       "\u001B[0;32m----> 2\u001B[0m aTS\u001B[38;5;241m.\u001B[39mrunTests()\n",
       "\n",
       "File \u001B[0;32m<command-2450280733892090>, line 58\u001B[0m, in \u001B[0;36mAggregationTestSuite.runTests\u001B[0;34m(self)\u001B[0m\n",
       "\u001B[1;32m     56\u001B[0m \u001B[38;5;28mself\u001B[39m\u001B[38;5;241m.\u001B[39mwaitForMicroBatch()        \n",
       "\u001B[1;32m     57\u001B[0m \u001B[38;5;28mself\u001B[39m\u001B[38;5;241m.\u001B[39massertBronze(\u001B[38;5;241m501\u001B[39m)\n",
       "\u001B[0;32m---> 58\u001B[0m \u001B[38;5;28mself\u001B[39m\u001B[38;5;241m.\u001B[39massertGold(\u001B[38;5;241m36859\u001B[39m)\n",
       "\u001B[1;32m     59\u001B[0m \u001B[38;5;28mprint\u001B[39m(\u001B[38;5;124m\"\u001B[39m\u001B[38;5;124mFirst iteration of validations passed.\u001B[39m\u001B[38;5;130;01m\\n\u001B[39;00m\u001B[38;5;124m\"\u001B[39m)\n",
       "\u001B[1;32m     61\u001B[0m \u001B[38;5;28mprint\u001B[39m(\u001B[38;5;124m\"\u001B[39m\u001B[38;5;130;01m\\n\u001B[39;00m\u001B[38;5;124mTesting second iteration of invoice stream...\u001B[39m\u001B[38;5;124m\"\u001B[39m) \n",
       "\n",
       "File \u001B[0;32m<command-2450280733892090>, line 32\u001B[0m, in \u001B[0;36mAggregationTestSuite.assertGold\u001B[0;34m(self, expected_value)\u001B[0m\n",
       "\u001B[1;32m     30\u001B[0m \u001B[38;5;28;01mdef\u001B[39;00m \u001B[38;5;21massertGold\u001B[39m(\u001B[38;5;28mself\u001B[39m, expected_value):\n",
       "\u001B[1;32m     31\u001B[0m     \u001B[38;5;28mprint\u001B[39m(\u001B[38;5;124mf\u001B[39m\u001B[38;5;124m\"\u001B[39m\u001B[38;5;124mStarting Gold validation...\u001B[39m\u001B[38;5;124m\"\u001B[39m)\n",
       "\u001B[0;32m---> 32\u001B[0m     actual_value \u001B[38;5;241m=\u001B[39m spark\u001B[38;5;241m.\u001B[39msql(\u001B[38;5;124m\"\u001B[39m\u001B[38;5;124mselect TotalAmount from customer_rewards where CustomerCardNo = \u001B[39m\u001B[38;5;124m'\u001B[39m\u001B[38;5;124m2262471989\u001B[39m\u001B[38;5;124m'\u001B[39m\u001B[38;5;124m\"\u001B[39m)\u001B[38;5;241m.\u001B[39mcollect()[\u001B[38;5;241m0\u001B[39m][\u001B[38;5;241m0\u001B[39m]\n",
       "\u001B[1;32m     33\u001B[0m     \u001B[38;5;28;01massert\u001B[39;00m expected_value \u001B[38;5;241m==\u001B[39m actual_value, \u001B[38;5;124mf\u001B[39m\u001B[38;5;124m\"\u001B[39m\u001B[38;5;124mTest failed! actual value is \u001B[39m\u001B[38;5;132;01m{\u001B[39;00mactual_value\u001B[38;5;132;01m}\u001B[39;00m\u001B[38;5;124m\"\u001B[39m\n",
       "\u001B[1;32m     34\u001B[0m     \u001B[38;5;28mprint\u001B[39m(\u001B[38;5;124m\"\u001B[39m\u001B[38;5;124mBronze Test Passed Successfully.\u001B[39m\u001B[38;5;124m\"\u001B[39m)\n",
       "\n",
       "\u001B[0;31mIndexError\u001B[0m: list index out of range"
      ]
     },
     "metadata": {
      "application/vnd.databricks.v1+output": {
       "addedWidgets": {},
       "arguments": {},
       "datasetInfos": [],
       "jupyterProps": {
        "ename": "IndexError",
        "evalue": "list index out of range"
       },
       "metadata": {
        "errorSummary": "<span class='ansi-red-fg'>IndexError</span>: list index out of range"
       },
       "removedWidgets": [],
       "sqlProps": null,
       "stackFrames": [
        "\u001B[0;31m---------------------------------------------------------------------------\u001B[0m",
        "\u001B[0;31mIndexError\u001B[0m                                Traceback (most recent call last)",
        "File \u001B[0;32m<command-2450280733892093>, line 2\u001B[0m\n\u001B[1;32m      1\u001B[0m aTS \u001B[38;5;241m=\u001B[39m AggregationTestSuite()\n\u001B[0;32m----> 2\u001B[0m aTS\u001B[38;5;241m.\u001B[39mrunTests()\n",
        "File \u001B[0;32m<command-2450280733892090>, line 58\u001B[0m, in \u001B[0;36mAggregationTestSuite.runTests\u001B[0;34m(self)\u001B[0m\n\u001B[1;32m     56\u001B[0m \u001B[38;5;28mself\u001B[39m\u001B[38;5;241m.\u001B[39mwaitForMicroBatch()        \n\u001B[1;32m     57\u001B[0m \u001B[38;5;28mself\u001B[39m\u001B[38;5;241m.\u001B[39massertBronze(\u001B[38;5;241m501\u001B[39m)\n\u001B[0;32m---> 58\u001B[0m \u001B[38;5;28mself\u001B[39m\u001B[38;5;241m.\u001B[39massertGold(\u001B[38;5;241m36859\u001B[39m)\n\u001B[1;32m     59\u001B[0m \u001B[38;5;28mprint\u001B[39m(\u001B[38;5;124m\"\u001B[39m\u001B[38;5;124mFirst iteration of validations passed.\u001B[39m\u001B[38;5;130;01m\\n\u001B[39;00m\u001B[38;5;124m\"\u001B[39m)\n\u001B[1;32m     61\u001B[0m \u001B[38;5;28mprint\u001B[39m(\u001B[38;5;124m\"\u001B[39m\u001B[38;5;130;01m\\n\u001B[39;00m\u001B[38;5;124mTesting second iteration of invoice stream...\u001B[39m\u001B[38;5;124m\"\u001B[39m) \n",
        "File \u001B[0;32m<command-2450280733892090>, line 32\u001B[0m, in \u001B[0;36mAggregationTestSuite.assertGold\u001B[0;34m(self, expected_value)\u001B[0m\n\u001B[1;32m     30\u001B[0m \u001B[38;5;28;01mdef\u001B[39;00m \u001B[38;5;21massertGold\u001B[39m(\u001B[38;5;28mself\u001B[39m, expected_value):\n\u001B[1;32m     31\u001B[0m     \u001B[38;5;28mprint\u001B[39m(\u001B[38;5;124mf\u001B[39m\u001B[38;5;124m\"\u001B[39m\u001B[38;5;124mStarting Gold validation...\u001B[39m\u001B[38;5;124m\"\u001B[39m)\n\u001B[0;32m---> 32\u001B[0m     actual_value \u001B[38;5;241m=\u001B[39m spark\u001B[38;5;241m.\u001B[39msql(\u001B[38;5;124m\"\u001B[39m\u001B[38;5;124mselect TotalAmount from customer_rewards where CustomerCardNo = \u001B[39m\u001B[38;5;124m'\u001B[39m\u001B[38;5;124m2262471989\u001B[39m\u001B[38;5;124m'\u001B[39m\u001B[38;5;124m\"\u001B[39m)\u001B[38;5;241m.\u001B[39mcollect()[\u001B[38;5;241m0\u001B[39m][\u001B[38;5;241m0\u001B[39m]\n\u001B[1;32m     33\u001B[0m     \u001B[38;5;28;01massert\u001B[39;00m expected_value \u001B[38;5;241m==\u001B[39m actual_value, \u001B[38;5;124mf\u001B[39m\u001B[38;5;124m\"\u001B[39m\u001B[38;5;124mTest failed! actual value is \u001B[39m\u001B[38;5;132;01m{\u001B[39;00mactual_value\u001B[38;5;132;01m}\u001B[39;00m\u001B[38;5;124m\"\u001B[39m\n\u001B[1;32m     34\u001B[0m     \u001B[38;5;28mprint\u001B[39m(\u001B[38;5;124m\"\u001B[39m\u001B[38;5;124mBronze Test Passed Successfully.\u001B[39m\u001B[38;5;124m\"\u001B[39m)\n",
        "\u001B[0;31mIndexError\u001B[0m: list index out of range"
       ],
       "type": "baseError"
      }
     },
     "output_type": "display_data"
    }
   ],
   "source": [
    "aTS = AggregationTestSuite()\n",
    "aTS.runTests()\t"
   ]
  }
 ],
 "metadata": {
  "application/vnd.databricks.v1+notebook": {
   "computePreferences": null,
   "dashboards": [],
   "environmentMetadata": {
    "base_environment": "",
    "environment_version": "1"
   },
   "inputWidgetPreferences": null,
   "language": "python",
   "notebookMetadata": {
    "pythonIndentUnit": 2
   },
   "notebookName": "Streaming-Incremental-Aggregates-TestSuite",
   "widgets": {}
  }
 },
 "nbformat": 4,
 "nbformat_minor": 0
}