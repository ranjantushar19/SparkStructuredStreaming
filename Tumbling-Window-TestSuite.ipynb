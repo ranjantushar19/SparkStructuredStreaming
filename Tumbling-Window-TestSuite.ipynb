{
 "cells": [
  {
   "cell_type": "code",
   "execution_count": 0,
   "metadata": {
    "application/vnd.databricks.v1+cell": {
     "cellMetadata": {
      "byteLimit": 2048000,
      "rowLimit": 10000
     },
     "inputWidgets": {},
     "nuid": "85fb0bcf-899e-4122-a4d8-e107a15f4758",
     "showTitle": false,
     "tableResultSettingsMap": {},
     "title": ""
    }
   },
   "outputs": [],
   "source": [
    "%run ./Tumbling-Window"
   ]
  },
  {
   "cell_type": "code",
   "execution_count": 0,
   "metadata": {
    "application/vnd.databricks.v1+cell": {
     "cellMetadata": {
      "byteLimit": 2048000,
      "rowLimit": 10000
     },
     "inputWidgets": {},
     "nuid": "ecdfd748-347b-42d0-8452-79b075c636c3",
     "showTitle": false,
     "tableResultSettingsMap": {},
     "title": ""
    }
   },
   "outputs": [],
   "source": [
    "import time\n",
    "from pyspark.sql.functions import expr, to_timestamp"
   ]
  },
  {
   "cell_type": "code",
   "execution_count": 0,
   "metadata": {
    "application/vnd.databricks.v1+cell": {
     "cellMetadata": {
      "byteLimit": 2048000,
      "rowLimit": 10000
     },
     "inputWidgets": {},
     "nuid": "581113d5-cf7d-4e43-91ef-3387c9eafb3e",
     "showTitle": false,
     "tableResultSettingsMap": {},
     "title": ""
    }
   },
   "outputs": [],
   "source": [
    "class TradeSummaryTestSuite:\n",
    "  def __init__(self):\n",
    "    self.base_data_dir = \"/FileStore/test\"\n",
    "\n",
    "  def cleanTests(self):\n",
    "    print(f\"Starting Cleanup...\")\n",
    "    spark.sql(\"drop table if exists kafka_bz\")\n",
    "    spark.sql(\"drop table if exists trade_summary\")\n",
    "    dbutils.fs.rm(\"/user/hive/warehouse/kafka_bz\", True)\n",
    "    dbutils.fs.rm(\"/user/hive/warehouse/trade_summary\", True)\n",
    "\n",
    "    dbutils.fs.rm(f\"{self.base_data_dir}/checkpoint/kafka_bz\", True)\n",
    "    dbutils.fs.rm(f\"{self.base_data_dir}/checkpoint/trade_summary\", True)\n",
    "\n",
    "    spark.sql(\"CREATE TABLE kafka_bz (key string, value string)\")\n",
    "\n",
    "    print(\"Done.\")\n",
    "\n",
    "  def waitForMicroBatch(self, sleep=30):\n",
    "    print(f\"Waiting for {sleep} seconds...\")\n",
    "    time.sleep(sleep)\n",
    "    print(\"Done.\")\n",
    "\n",
    "  def assertTradeSummary(self, start, end, expected_buy, expected_sell):\n",
    "    print(\"Starting Trade Summary Validation ...\")\n",
    "    result = spark.sql(f\"\"\"SELECT TotalBuy, TotalSell\n",
    "                       from trade_summary\n",
    "                       WHERE date_format(start, 'yyyy-MM-dd HH:mm:ss') = '{start}'\n",
    "                       AND date_format(end, 'yyyy-MM-dd HH:mm:ss') = '{end}'\n",
    "                       \"\"\").collect()\n",
    "    actual_buy = result[0][0]\n",
    "    actual_sell = result[0][1]\n",
    "    assert expected_buy == actual_buy, f\"Test failed! Actual buy amount is {actual_buy}.\"\n",
    "    assert expected_sell == actual_sell, f\"Test failed! Actual sell amount is {actual_sell}.\"\n",
    "    print(\"Done.\")\n",
    "\n",
    "  def runTests(self):\n",
    "    self.cleanTests()\n",
    "\n",
    "    stream = TradeSummary()\n",
    "    sQuery = stream.process()\n",
    "\n",
    "    print(\"Testing first 2 events ...\")\n",
    "    spark.sql(\"\"\"INSERT INTO kafka_bz VALUES\n",
    "              ('2019-02-05', '{\"CreatedTime\": \"2019-02-05 10:05:00\", \"Type\": \"BUY\", \"Amount\": 500, \"BrokerCode\": \"ABX\"}'),\n",
    "              ('2019-02-05', '{\"CreatedTime\": \"2019-02-05 10:12:00\", \"Type\": \"BUY\", \"Amount\": 300, \"BrokerCode\": \"ABX\"}')\"\"\")\n",
    "    self.waitForMicroBatch()\n",
    "    self.assertTradeSummary('2019-02-05 10:00:00', '2019-02-05 10:15:00', 800, 0)\n",
    "\n",
    "    print(\"Testing third and fourth events ...\")\n",
    "    spark.sql(\"\"\"INSERT INTO kafka_bz VALUES\n",
    "              ('2019-02-05', '{\"CreatedTime\": \"2019-02-05 10:20:00\", \"Type\": \"BUY\", \"Amount\": 600, \"BrokerCode\": \"ABX\"}'),\n",
    "              ('2019-02-05', '{\"CreatedTime\": \"2019-02-05 10:40:00\", \"Type\": \"BUY\", \"Amount\": 900, \"BrokerCode\": \"ABX\"}')\"\"\")\n",
    "    self.waitForMicroBatch()\n",
    "    self.assertTradeSummary('2019-02-05 10:15:00', '2019-02-05 10:30:00', 600, 0)\n",
    "    self.assertTradeSummary('2019-02-05 10:30:00', '2019-02-05 10:45:00', 900, 0)\n",
    "\n",
    "    print(\"Testing late event...\")\n",
    "    spark.sql(\"\"\"INSERT INTO kafka_bz VALUES\n",
    "              ('2019-02-05', '{\"CreatedTime\": \"2019-02-05 10:48:00\", \"Type\": \"SELL\", \"Amount\": 500, \"BrokerCode\": \"ABX\"}'),\n",
    "              ('2019-02-05', '{\"CreatedTime\": \"2019-02-05 10:25:00\", \"Type\": \"SELL\", \"Amount\": 400, \"BrokerCode\": \"ABX\"}')\"\"\")\n",
    "    self.waitForMicroBatch()\n",
    "    self.assertTradeSummary('2019-02-05 10:45:00', '2019-02-05 11:00:00', 0, 500)\n",
    "    self.assertTradeSummary('2019-02-05 10:15:00', '2019-02-05 10:30:00', 600, 400)\n",
    "\n",
    "    print(\"Validation passed.\\n\")        \n",
    "\n",
    "    sQuery.stop()\n"
   ]
  },
  {
   "cell_type": "code",
   "execution_count": 0,
   "metadata": {
    "application/vnd.databricks.v1+cell": {
     "cellMetadata": {
      "byteLimit": 2048000,
      "rowLimit": 10000
     },
     "inputWidgets": {},
     "nuid": "84b04c8c-9e33-4d59-b4ab-3b3f12ed5cec",
     "showTitle": false,
     "tableResultSettingsMap": {},
     "title": ""
    }
   },
   "outputs": [
    {
     "output_type": "stream",
     "name": "stdout",
     "output_type": "stream",
     "text": [
      "Starting Cleanup...\nDone.\nTesting first 2 events ...\nWaiting for 30 seconds...\nDone.\nStarting Trade Summary Validation ...\nDone.\nTesting third and fourth events ...\nWaiting for 30 seconds...\nDone.\nStarting Trade Summary Validation ...\nDone.\nStarting Trade Summary Validation ...\nDone.\n\nTesting late event...\nWaiting for 30 seconds...\nDone.\nStarting Trade Summary Validation ...\nDone.\nStarting Trade Summary Validation ...\nDone.\nValidation passed.\n\n"
     ]
    }
   ],
   "source": [
    "ts = TradeSummaryTestSuite()\n",
    "ts.runTests()\t"
   ]
  },
  {
   "cell_type": "code",
   "execution_count": 0,
   "metadata": {
    "application/vnd.databricks.v1+cell": {
     "cellMetadata": {
      "byteLimit": 2048000,
      "implicitDf": true,
      "rowLimit": 10000
     },
     "inputWidgets": {},
     "nuid": "5d26d392-9e3e-4b24-8b38-0f02ae0dfded",
     "showTitle": false,
     "tableResultSettingsMap": {},
     "title": ""
    }
   },
   "outputs": [
    {
     "output_type": "display_data",
     "data": {
      "text/html": [
       "<style scoped>\n",
       "  .table-result-container {\n",
       "    max-height: 300px;\n",
       "    overflow: auto;\n",
       "  }\n",
       "  table, th, td {\n",
       "    border: 1px solid black;\n",
       "    border-collapse: collapse;\n",
       "  }\n",
       "  th, td {\n",
       "    padding: 5px;\n",
       "  }\n",
       "  th {\n",
       "    text-align: left;\n",
       "  }\n",
       "</style><div class='table-result-container'><table class='table-result'><thead style='background-color: white'><tr><th>start</th><th>end</th><th>TotalBuy</th><th>TotalSell</th></tr></thead><tbody><tr><td>2019-02-05T10:00:00Z</td><td>2019-02-05T10:15:00Z</td><td>800</td><td>0</td></tr><tr><td>2019-02-05T10:15:00Z</td><td>2019-02-05T10:30:00Z</td><td>600</td><td>400</td></tr><tr><td>2019-02-05T10:30:00Z</td><td>2019-02-05T10:45:00Z</td><td>900</td><td>0</td></tr><tr><td>2019-02-05T10:45:00Z</td><td>2019-02-05T11:00:00Z</td><td>0</td><td>500</td></tr></tbody></table></div>"
      ]
     },
     "metadata": {
      "application/vnd.databricks.v1+output": {
       "addedWidgets": {},
       "aggData": [],
       "aggError": "",
       "aggOverflow": false,
       "aggSchema": [],
       "aggSeriesLimitReached": false,
       "aggType": "",
       "arguments": {},
       "columnCustomDisplayInfos": {},
       "data": [
        [
         "2019-02-05T10:00:00Z",
         "2019-02-05T10:15:00Z",
         800,
         0
        ],
        [
         "2019-02-05T10:15:00Z",
         "2019-02-05T10:30:00Z",
         600,
         400
        ],
        [
         "2019-02-05T10:30:00Z",
         "2019-02-05T10:45:00Z",
         900,
         0
        ],
        [
         "2019-02-05T10:45:00Z",
         "2019-02-05T11:00:00Z",
         0,
         500
        ]
       ],
       "datasetInfos": [],
       "dbfsResultPath": null,
       "isJsonSchema": true,
       "metadata": {
        "createTempViewForImplicitDf": true,
        "dataframeName": "_sqldf",
        "executionCount": 7
       },
       "overflow": false,
       "plotOptions": {
        "customPlotOptions": {},
        "displayType": "table",
        "pivotAggregation": null,
        "pivotColumns": null,
        "xColumns": null,
        "yColumns": null
       },
       "removedWidgets": [],
       "schema": [
        {
         "metadata": "{}",
         "name": "start",
         "type": "\"timestamp\""
        },
        {
         "metadata": "{}",
         "name": "end",
         "type": "\"timestamp\""
        },
        {
         "metadata": "{}",
         "name": "TotalBuy",
         "type": "\"long\""
        },
        {
         "metadata": "{}",
         "name": "TotalSell",
         "type": "\"long\""
        }
       ],
       "type": "table"
      }
     },
     "output_type": "display_data"
    }
   ],
   "source": [
    "%sql\n",
    "SELECT * FROM trade_summary\n",
    "ORDER BY start"
   ]
  }
 ],
 "metadata": {
  "application/vnd.databricks.v1+notebook": {
   "computePreferences": null,
   "dashboards": [],
   "environmentMetadata": {
    "base_environment": "",
    "environment_version": "1"
   },
   "inputWidgetPreferences": null,
   "language": "python",
   "notebookMetadata": {
    "mostRecentlyExecutedCommandWithImplicitDF": {
     "commandId": 1131736759002424,
     "dataframes": [
      "_sqldf"
     ]
    },
    "pythonIndentUnit": 2
   },
   "notebookName": "Tumbling-Window-TestSuite",
   "widgets": {}
  }
 },
 "nbformat": 4,
 "nbformat_minor": 0
}