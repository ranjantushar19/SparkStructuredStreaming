{
 "cells": [
  {
   "cell_type": "code",
   "execution_count": 0,
   "metadata": {
    "application/vnd.databricks.v1+cell": {
     "cellMetadata": {
      "byteLimit": 2048000,
      "rowLimit": 10000
     },
     "inputWidgets": {},
     "nuid": "5c862418-7359-474c-83ab-3c56dd0f3b25",
     "showTitle": false,
     "tableResultSettingsMap": {},
     "title": ""
    }
   },
   "outputs": [],
   "source": [
    "from pyspark.sql.functions import explode, split, trim, lower, col"
   ]
  },
  {
   "cell_type": "code",
   "execution_count": 0,
   "metadata": {
    "application/vnd.databricks.v1+cell": {
     "cellMetadata": {
      "byteLimit": 2048000,
      "rowLimit": 10000
     },
     "inputWidgets": {},
     "nuid": "709f2cb4-577b-4273-ad0e-b1bb9a60fe79",
     "showTitle": false,
     "tableResultSettingsMap": {},
     "title": ""
    }
   },
   "outputs": [],
   "source": [
    "class batchWC():\n",
    "  def __init__(self):\n",
    "    self.base_data_dir = \"/FileStore/test\"\n",
    "\n",
    "  def getRawData(self):\n",
    "    lines = (spark.read\n",
    "         .format(\"text\")\n",
    "         .option(\"linesep\", \".\")\n",
    "         .load(f\"{self.base_data_dir}/data/text\")\n",
    "        )\n",
    "    return lines.select(explode(split(lines.value, \" \")).alias(\"word\"))\n",
    "  \n",
    "  def getQualityData(self, rawDF):\n",
    "    return (rawDF\n",
    "            .select(lower(trim(col(\"word\"))).alias(\"word\"))\n",
    "            .where(\"word is not null\")\n",
    "            .where(\"word rlike '[a-z]'\")\n",
    "          )\n",
    "  \n",
    "  def getWordCount(self, qualityDF):\n",
    "    return qualityDF.groupby(\"word\").count()\n",
    "  \n",
    "  def overwriteWordCount(self, wordCountDF):\n",
    "    (wordCountDF.write\n",
    "            .format(\"delta\")\n",
    "            .mode(\"overwrite\")\n",
    "            .saveAsTable(\"word_count_table\")\n",
    "          )\n",
    "  \n",
    "  def wordCount(self):\n",
    "    print(f\"Executing Word Count...\")\n",
    "    rawDF = self.getRawData()\n",
    "    qualityDF = self.getQualityData(rawDF)\n",
    "    resultDF = self.getWordCount(qualityDF)\n",
    "    self.overwriteWordCount(resultDF)\n",
    "    print (\"Done\")"
   ]
  },
  {
   "cell_type": "code",
   "execution_count": 0,
   "metadata": {
    "application/vnd.databricks.v1+cell": {
     "cellMetadata": {},
     "inputWidgets": {},
     "nuid": "5d86141f-c055-4c7e-b1fc-4722894ec0d4",
     "showTitle": false,
     "tableResultSettingsMap": {},
     "title": ""
    }
   },
   "outputs": [],
   "source": [
    "class streamWC():\n",
    "  def __init__(self):\n",
    "    self.base_data_dir = \"/FileStore/test\"\n",
    "\n",
    "  def getRawData(self):\n",
    "    lines = (spark.readStream\n",
    "         .format(\"text\")\n",
    "         .option(\"linesep\", \".\")\n",
    "         .load(f\"{self.base_data_dir}/data/text\")\n",
    "        )\n",
    "    return lines.select(explode(split(lines.value, \" \")).alias(\"word\"))\n",
    "  \n",
    "  def getQualityData(self, rawDF):\n",
    "    return (rawDF\n",
    "            .select(lower(trim(col(\"word\"))).alias(\"word\"))\n",
    "            .where(\"word is not null\")\n",
    "            .where(\"word rlike '[a-z]'\")\n",
    "          )\n",
    "  \n",
    "  def getWordCount(self, qualityDF):\n",
    "    return qualityDF.groupby(\"word\").count()\n",
    "  \n",
    "  def overwriteWordCount(self, wordCountDF):\n",
    "    return (wordCountDF.writeStream\n",
    "            .format(\"delta\")\n",
    "            .option(\"checkpointLocation\", f\"{self.base_data_dir}/checkpoint/word_count\")\n",
    "            .outputMode(\"complete\")\n",
    "            .toTable(\"word_count_table\")\n",
    "          )\n",
    "  \n",
    "  def wordCount(self):\n",
    "    print(f\"Starting Word Count Stream ...\")\n",
    "    rawDF = self.getRawData()\n",
    "    qualityDF = self.getQualityData(rawDF)\n",
    "    resultDF = self.getWordCount(qualityDF)\n",
    "    sQuery = self.overwriteWordCount(resultDF)\n",
    "    print (\"Done\")\n",
    "    return sQuery"
   ]
  }
 ],
 "metadata": {
  "application/vnd.databricks.v1+notebook": {
   "computePreferences": null,
   "dashboards": [],
   "environmentMetadata": {
    "base_environment": "",
    "environment_version": "1"
   },
   "inputWidgetPreferences": null,
   "language": "python",
   "notebookMetadata": {
    "pythonIndentUnit": 2
   },
   "notebookName": "Word-Count",
   "widgets": {}
  }
 },
 "nbformat": 4,
 "nbformat_minor": 0
}