{
 "cells": [
  {
   "cell_type": "code",
   "execution_count": 0,
   "metadata": {
    "application/vnd.databricks.v1+cell": {
     "cellMetadata": {
      "byteLimit": 2048000,
      "rowLimit": 10000
     },
     "inputWidgets": {},
     "nuid": "e78e246d-f0ea-4a8a-bd2d-af962299f16e",
     "showTitle": false,
     "tableResultSettingsMap": {},
     "title": ""
    }
   },
   "outputs": [],
   "source": [
    "import time\n",
    "from pyspark.sql.functions import from_json, expr, lower, trim, col"
   ]
  },
  {
   "cell_type": "code",
   "execution_count": 0,
   "metadata": {
    "application/vnd.databricks.v1+cell": {
     "cellMetadata": {
      "byteLimit": 2048000,
      "rowLimit": 10000
     },
     "inputWidgets": {},
     "nuid": "41763ec4-f9e8-419a-887b-ce25d44a1e12",
     "showTitle": false,
     "tableResultSettingsMap": {},
     "title": ""
    }
   },
   "outputs": [],
   "source": [
    "class Bronze:\n",
    "  def __init__(self):\n",
    "    self.base_data_dir = \"/FileStore/test\"\n",
    "    self.BOOTSTRAP_SERVER = \"pk.......3.us-east1.gcp.confluent.cloud:9092\"\n",
    "    self.JAAS_MODULE = \"org.apache.kafka.common.security.plain.PlainLoginModule\"\n",
    "    self.CLUSTER_API_KEY = \"7J.........D7\"\n",
    "    self.CLUSTER_API_SECRET = \"IBfM.........................................yKbW\"\n",
    "  \n",
    "  def ingestFromKafka(self):\n",
    "    return ( spark.readStream\n",
    "            .format(\"kafka\")\n",
    "            .option(\"kafka.bootstrap.servers\", self.BOOTSTRAP_SERVER)\n",
    "            .option(\"kafka.security.protocol\", \"SASL_SSL\")\n",
    "            .option(\"kafka.sasl.mechanism\", \"PLAIN\")\n",
    "            .option(\"kafka.sasl.jaas.config\", f\"{self.JAAS_MODULE} required username='{self.CLUSTER_API_KEY}' password='{self.CLUSTER_API_SECRET}';\")\n",
    "            .option(\"maxOffsetsPerTrigger\", 30)\n",
    "            .option(\"startingTimestamp\", 1)\n",
    "            .option(\"subscribe\", \"invoices\")\n",
    "            .load()\n",
    "          )\n",
    "\n",
    "  def getSchema(self):\n",
    "    return \"\"\"InvoiceNumber string, CreatedTime bigint, StoreID string, PosID string, CashierID string, CustomerType string, CustomerCardNo string, TotalAmount double, NumberOfItems bigint, PaymentMethod string, TaxableAmount double, CGST double, SGST double, CESS double, DeliveryType string, DeliveryAddress struct<AddressLine string, City string, ContactNumber string, PinCode string, State string>, InvoiceLineItems array<struct<ItemCode string, ItemDescription string, ItemPrice double, ItemQty bigint, TotalValue double>>\"\"\"\n",
    "\n",
    "  def getInvoices(self, kafka_df):\n",
    "    return (kafka_df.select(kafka_df.key.cast(\"string\").alias(\"key\"),\n",
    "                            from_json(kafka_df.value.cast(\"string\"), self.getSchema()).alias(\"value\"),\n",
    "                            \"topic\", \"timestamp\"\n",
    "                            )\n",
    "            )\n",
    "\n",
    "  def upsert(self, invoices_df, batch_id):\n",
    "    invoices_df.createOrReplaceTempView(\"invoices_df_temp_view\")\n",
    "    merge_statement = '''MERGE INTO invoices_bz s\n",
    "                      USING invoices_df_temp_view t\n",
    "                      ON s.value == t.value AND s.timestamp == t.timestamp\n",
    "                      WHEN MATCHED THEN UPDATE SET *\n",
    "                      WHEN NOT MATCHED THEN INSERT * \n",
    "                      '''\n",
    "    invoices_df._jdf.sparkSession().sql(merge_statement)\n",
    "\n",
    "  def process(self):\n",
    "    print(\"Starting Bronze Stream ...\")\n",
    "    kafka_df = self.ingestFromKafka()\n",
    "    invoices_df = self.getInvoices(kafka_df)\n",
    "    sQuery = (invoices_df.writeStream\n",
    "              .queryName(\"bronze-ingestion\")\n",
    "              .foreachBatch(self.upsert)\n",
    "              .option(\"checkpointLocation\", f\"{self.base_data_dir}/checkpoint/invoices_bz\")\n",
    "              .outputMode(\"append\")\n",
    "              .start()\n",
    "              )\n",
    "    print(\"Done.\")\n",
    "    return sQuery\n"
   ]
  }
 ],
 "metadata": {
  "application/vnd.databricks.v1+notebook": {
   "computePreferences": null,
   "dashboards": [],
   "environmentMetadata": {
    "base_environment": "",
    "environment_version": "1"
   },
   "inputWidgetPreferences": null,
   "language": "python",
   "notebookMetadata": {
    "pythonIndentUnit": 2
   },
   "notebookName": "Idempotent-Kafka-to-Bronze1",
   "widgets": {}
  }
 },
 "nbformat": 4,
 "nbformat_minor": 0
}