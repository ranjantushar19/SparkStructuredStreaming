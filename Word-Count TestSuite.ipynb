{
 "cells": [
  {
   "cell_type": "code",
   "execution_count": 0,
   "metadata": {
    "application/vnd.databricks.v1+cell": {
     "cellMetadata": {
      "byteLimit": 2048000,
      "rowLimit": 10000
     },
     "inputWidgets": {},
     "nuid": "e102a316-4e8d-4735-8758-c9b8723d4ffd",
     "showTitle": false,
     "tableResultSettingsMap": {},
     "title": ""
    }
   },
   "outputs": [],
   "source": [
    "%run ./Word-Count"
   ]
  },
  {
   "cell_type": "code",
   "execution_count": 0,
   "metadata": {
    "application/vnd.databricks.v1+cell": {
     "cellMetadata": {
      "byteLimit": 2048000,
      "rowLimit": 10000
     },
     "inputWidgets": {},
     "nuid": "96b56e68-f045-4e08-b8eb-0ee3affba4a3",
     "showTitle": false,
     "tableResultSettingsMap": {},
     "title": ""
    }
   },
   "outputs": [],
   "source": [
    "class batchWCTestSuite():\n",
    "  def __init__(self):\n",
    "    self.base_data_dir = \"/FileStore/test\"\n",
    "  \n",
    "  def cleanTest(self):\n",
    "    print(\"Starting cleanup ...\")\n",
    "    spark.sql(\"drop table if exists word_count_table\")\n",
    "    dbutils.fs.rm(\"/user/hive/warehouse/word_count_table\", True)\n",
    "    dbutils.fs.rm(f\"{self.base_data_dir}/checkpoint\", True)\n",
    "    dbutils.fs.rm(f\"{self.base_data_dir}/data/text\", True)\n",
    "    dbutils.fs.mkdirs(f\"{self.base_data_dir}/data/text\")\n",
    "    print(\"Done.\")\n",
    "\n",
    "  def ingestData(self, itr):\n",
    "    print(\"Starting ingestion ...\")\n",
    "    dbutils.fs.cp(f\"{self.base_data_dir}/text_data_{itr}.txt\", f\"{self.base_data_dir}/data/text/\")\n",
    "    print(\"Done.\\n\")\n",
    "\n",
    "  def assertResult(self, expected_count):\n",
    "    actual_count = spark.sql(\"select sum(count) from word_count_table where substr(word, 1, 1) == 's'\").collect()[0][0]\n",
    "    assert expected_count == actual_count, f\"Test Failed! Actual count is {actual_count}\"\n",
    "  \n",
    "  def runTests(self):\n",
    "    self.cleanTest()\n",
    "    wc = batchWC()\n",
    "\n",
    "    print(\"Testing first iteration of the batch word count ...\")\n",
    "    self.ingestData(1)\n",
    "    wc.wordCount()\n",
    "    self.assertResult(25)\n",
    "    print(\"First iteration of the batch word count completed.\\n\")\n",
    "\n",
    "    print(\"Testing second iteration of the batch word count ...\")\n",
    "    self.ingestData(2)\n",
    "    wc.wordCount()\n",
    "    self.assertResult(32)\n",
    "    print(\"Third iteration of the batch word count completed.\\n\")\n",
    "\n",
    "    print(\"Testing third iteration of the batch word count ...\")\n",
    "    self.ingestData(3)\n",
    "    wc.wordCount()\n",
    "    self.assertResult(37)\n",
    "    print(\"Third iteration of the batch word count completed.\\n\")"
   ]
  },
  {
   "cell_type": "code",
   "execution_count": 0,
   "metadata": {
    "application/vnd.databricks.v1+cell": {
     "cellMetadata": {
      "byteLimit": 2048000,
      "rowLimit": 10000
     },
     "inputWidgets": {},
     "nuid": "a9e0ea79-9a57-4f77-8d3a-f3d7d911d1f7",
     "showTitle": false,
     "tableResultSettingsMap": {},
     "title": ""
    }
   },
   "outputs": [
    {
     "output_type": "stream",
     "name": "stdout",
     "output_type": "stream",
     "text": [
      "Starting cleanup ...\nDone.\nTesting first iteration of the batch word count ...\nStarting ingestion ...Done.\n\n\tExecuting Word Count...Done\nFirst iteration of the batch word count completed.\n\nTesting second iteration of the batch word count ...\nStarting ingestion ...Done.\n\n\tExecuting Word Count...Done\nThird iteration of the batch word count completed.\n\nTesting third iteration of the batch word count ...\nStarting ingestion ...Done.\n\n\tExecuting Word Count...Done\nThird iteration of the batch word count completed.\n\n"
     ]
    }
   ],
   "source": [
    "bwcTS = batchWCTestSuite()\n",
    "bwcTS.runTests()"
   ]
  },
  {
   "cell_type": "code",
   "execution_count": 0,
   "metadata": {
    "application/vnd.databricks.v1+cell": {
     "cellMetadata": {
      "byteLimit": 2048000,
      "rowLimit": 10000
     },
     "inputWidgets": {},
     "nuid": "679b1570-48a5-4cac-83cb-08a2f77fcece",
     "showTitle": false,
     "tableResultSettingsMap": {},
     "title": ""
    }
   },
   "outputs": [],
   "source": [
    "import time"
   ]
  },
  {
   "cell_type": "code",
   "execution_count": 0,
   "metadata": {
    "application/vnd.databricks.v1+cell": {
     "cellMetadata": {
      "byteLimit": 2048000,
      "rowLimit": 10000
     },
     "inputWidgets": {},
     "nuid": "14239b55-f657-479e-813c-f7fefce4858d",
     "showTitle": false,
     "tableResultSettingsMap": {},
     "title": ""
    }
   },
   "outputs": [],
   "source": [
    "class streamWCTestSuite():\n",
    "  def __init__(self):\n",
    "    self.base_data_dir = \"/FileStore/test\"\n",
    "  \n",
    "  def cleanTest(self):\n",
    "    print(\"Starting cleanup ...\")\n",
    "    spark.sql(\"drop table if exists word_count_table\")\n",
    "    dbutils.fs.rm(\"/user/hive/warehouse/word_count_table\", True)\n",
    "    dbutils.fs.rm(f\"{self.base_data_dir}/checkpoint\", True)\n",
    "    dbutils.fs.rm(f\"{self.base_data_dir}/data/text\", True)\n",
    "    dbutils.fs.mkdirs(f\"{self.base_data_dir}/data/text\")\n",
    "    print(\"Done.\")\n",
    "\n",
    "  def ingestData(self, itr):\n",
    "    print(\"Starting ingestion ...\", end='')\n",
    "    dbutils.fs.cp(f\"{self.base_data_dir}/text_data_{itr}.txt\", f\"{self.base_data_dir}/data/text/\")\n",
    "    print(\"Done.\\n\")\n",
    "\n",
    "  def assertResult(self, expected_count):\n",
    "    actual_count = spark.sql(\"select sum(count) from word_count_table where substr(word, 1, 1) == 's'\").collect()[0][0]\n",
    "    assert expected_count == actual_count, f\"Test Failed! Actual count is {actual_count}\"\n",
    "  \n",
    "  def runTests(self):\n",
    "    sleepTime = 30\n",
    "    self.cleanTest()\n",
    "    wc = streamWC()\n",
    "    sQuery = wc.wordCount()\n",
    "\n",
    "    print(\"Testing first iteration of the batch word count ...\")\n",
    "    self.ingestData(1)\n",
    "    print(f\"Waiting for {sleepTime} seconds ...\")\n",
    "    time.sleep(sleepTime)\n",
    "    self.assertResult(25)\n",
    "    print(\"First iteration of the batch word count completed.\\n\")\n",
    "\n",
    "    print(\"Testing second iteration of the batch word count ...\")\n",
    "    self.ingestData(2)\n",
    "    print(f\"Waiting for {sleepTime} seconds ...\")\n",
    "    time.sleep(sleepTime)\n",
    "    self.assertResult(32)\n",
    "    print(\"Third iteration of the batch word count completed.\\n\")\n",
    "\n",
    "    print(\"Testing third iteration of the batch word count ...\")\n",
    "    self.ingestData(3)\n",
    "    print(f\"Waiting for {sleepTime} seconds ...\")\n",
    "    time.sleep(sleepTime)\n",
    "    self.assertResult(37)\n",
    "    print(\"Third iteration of the batch word count completed.\\n\")\n",
    "\n",
    "    sQuery.stop()"
   ]
  },
  {
   "cell_type": "code",
   "execution_count": 0,
   "metadata": {
    "application/vnd.databricks.v1+cell": {
     "cellMetadata": {
      "byteLimit": 2048000,
      "rowLimit": 10000
     },
     "inputWidgets": {},
     "nuid": "cf0744f5-80dd-4c5d-a29b-5ece0a2482e4",
     "showTitle": false,
     "tableResultSettingsMap": {},
     "title": ""
    }
   },
   "outputs": [
    {
     "output_type": "stream",
     "name": "stdout",
     "output_type": "stream",
     "text": [
      "Starting cleanup ...\nDone.\nStarting Word Count Stream ...\nDone\nTesting first iteration of the batch word count ...\nStarting ingestion ...Done.\n\nWaiting for 30 seconds ...\nFirst iteration of the batch word count completed.\n\nTesting second iteration of the batch word count ...\nStarting ingestion ...Done.\n\nWaiting for 30 seconds ...\nThird iteration of the batch word count completed.\n\nTesting third iteration of the batch word count ...\nStarting ingestion ...Done.\n\nWaiting for 30 seconds ...\nThird iteration of the batch word count completed.\n\n"
     ]
    }
   ],
   "source": [
    "swcTS = streamWCTestSuite()\n",
    "swcTS.runTests()"
   ]
  },
  {
   "cell_type": "code",
   "execution_count": 0,
   "metadata": {
    "application/vnd.databricks.v1+cell": {
     "cellMetadata": {},
     "inputWidgets": {},
     "nuid": "479a30ea-c125-4547-a54a-fe024b3dc6eb",
     "showTitle": false,
     "tableResultSettingsMap": {},
     "title": ""
    }
   },
   "outputs": [],
   "source": []
  }
 ],
 "metadata": {
  "application/vnd.databricks.v1+notebook": {
   "computePreferences": null,
   "dashboards": [],
   "environmentMetadata": {
    "base_environment": "",
    "environment_version": "1"
   },
   "inputWidgetPreferences": null,
   "language": "python",
   "notebookMetadata": {
    "pythonIndentUnit": 2
   },
   "notebookName": "Word-Count TestSuite",
   "widgets": {}
  }
 },
 "nbformat": 4,
 "nbformat_minor": 0
}