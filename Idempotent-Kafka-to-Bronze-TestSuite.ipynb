{
 "cells": [
  {
   "cell_type": "code",
   "execution_count": 0,
   "metadata": {
    "application/vnd.databricks.v1+cell": {
     "cellMetadata": {
      "byteLimit": 2048000,
      "rowLimit": 10000
     },
     "inputWidgets": {},
     "nuid": "0baab40f-e363-4231-ac7e-0c7d1e6719df",
     "showTitle": false,
     "tableResultSettingsMap": {},
     "title": ""
    }
   },
   "outputs": [],
   "source": [
    "%run ./Idempotent-Kafka-to-Bronze"
   ]
  },
  {
   "cell_type": "code",
   "execution_count": 0,
   "metadata": {
    "application/vnd.databricks.v1+cell": {
     "cellMetadata": {
      "byteLimit": 2048000,
      "rowLimit": 10000
     },
     "inputWidgets": {},
     "nuid": "ba9967a8-76b1-41e9-9dd9-e4fb75778530",
     "showTitle": false,
     "tableResultSettingsMap": {},
     "title": ""
    }
   },
   "outputs": [],
   "source": [
    "#dbutils.fs.rm(\"/FileStore/test/checkpoint/invoices\", True)"
   ]
  },
  {
   "cell_type": "code",
   "execution_count": 0,
   "metadata": {
    "application/vnd.databricks.v1+cell": {
     "cellMetadata": {
      "byteLimit": 2048000,
      "rowLimit": 10000
     },
     "inputWidgets": {},
     "nuid": "b07e5412-d412-43dc-90b3-8baf1e45c1e6",
     "showTitle": false,
     "tableResultSettingsMap": {},
     "title": ""
    }
   },
   "outputs": [],
   "source": [
    "class kafkaToBronzeTestSuite():\n",
    "  def __init__(self):\n",
    "    self.base_data_dir = \"/FileStore/test\"\n",
    "\n",
    "  def cleanTests(self):\n",
    "    print(f\"Starting Cleanup...\", end='')\n",
    "    spark.sql(\"drop table if exists invoices_bz\")\n",
    "    dbutils.fs.rm(\"/user/hive/warehouse/invoices_bz\", True)\n",
    "    dbutils.fs.rm(f\"{self.base_data_dir}/checkpoint/invoices_bz\", True)\n",
    "    print(\"Done\")\n",
    "\n",
    "  def assertResult(self, expected_count):\n",
    "    print(f\"Starting validation...\", end='')\n",
    "    actual_count = spark.sql(\"select count(*) from invoices_bz\").collect()[0][0]\n",
    "    assert expected_count == actual_count, f\"Test failed! actual count is {actual_count}\"\n",
    "    print(\"Done\")\n",
    "\n",
    "  def waitForMicroBatch(self, sleep=15):\n",
    "    import time\n",
    "    print(f\"Waiting for {sleep} seconds...\", end='')\n",
    "    time.sleep(sleep)\n",
    "    print(\"Done.\")    \n",
    "\n",
    "  def runTests(self):\n",
    "    self.cleanTests()\n",
    "    bzStream = Bronze()\n",
    "\n",
    "    value_schema = bzStream.getSchema()\n",
    "    spark.sql(f\"CREATE TABLE invoices_bz (key STRING, value STRUCT<{value_schema}>, topic STRING, timestamp TIMESTAMP)\")\n",
    "\n",
    "    print(\"Testing Scenario - Start from beginning on a new checkpoint...\") \n",
    "    bzQuery = bzStream.process()\n",
    "    self.waitForMicroBatch() \n",
    "    bzQuery.stop()       \n",
    "    self.assertResult(29)\n",
    "    print(\"Validation passed.\\n\")\n",
    "\n",
    "    print(\"Testing Scenarion - Restart from where it stopped on the same checkpoint...\")\n",
    "    bzQuery = bzStream.process()\n",
    "    self.waitForMicroBatch()\n",
    "    bzQuery.stop()\n",
    "    self.assertResult(29)\n",
    "    print(\"Validation passed.\\n\")"
   ]
  },
  {
   "cell_type": "code",
   "execution_count": 0,
   "metadata": {
    "application/vnd.databricks.v1+cell": {
     "cellMetadata": {
      "byteLimit": 2048000,
      "rowLimit": 10000
     },
     "inputWidgets": {},
     "nuid": "49d38d6e-acea-4b91-ab59-c995c090153e",
     "showTitle": false,
     "tableResultSettingsMap": {},
     "title": ""
    }
   },
   "outputs": [
    {
     "output_type": "stream",
     "name": "stdout",
     "output_type": "stream",
     "text": [
      "Starting Cleanup...Done\nTesting Scenario - Start from beginning on a new checkpoint...\nStarting Bronze Stream ...\nDone.\nWaiting for 15 seconds...Done.\nStarting validation...Done\nValidation passed.\n\nTesting Scenarion - Restart from where it stopped on the same checkpoint...\nStarting Bronze Stream ...\nDone.\nWaiting for 15 seconds...Done.\nStarting validation...Done\nValidation passed.\n\n"
     ]
    }
   ],
   "source": [
    "ts = kafkaToBronzeTestSuite()\n",
    "ts.runTests()"
   ]
  }
 ],
 "metadata": {
  "application/vnd.databricks.v1+notebook": {
   "computePreferences": null,
   "dashboards": [],
   "environmentMetadata": {
    "base_environment": "",
    "environment_version": "1"
   },
   "inputWidgetPreferences": null,
   "language": "python",
   "notebookMetadata": {
    "pythonIndentUnit": 2
   },
   "notebookName": "Idempotent-Kafka-to-Bronze-TestSuite",
   "widgets": {}
  }
 },
 "nbformat": 4,
 "nbformat_minor": 0
}