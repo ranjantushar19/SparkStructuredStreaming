{
 "cells": [
  {
   "cell_type": "code",
   "execution_count": 0,
   "metadata": {
    "application/vnd.databricks.v1+cell": {
     "cellMetadata": {
      "byteLimit": 2048000,
      "rowLimit": 10000
     },
     "inputWidgets": {},
     "nuid": "b6689049-7e02-4eef-8e82-23d393b5c9a7",
     "showTitle": false,
     "tableResultSettingsMap": {},
     "title": ""
    }
   },
   "outputs": [],
   "source": [
    "from pyspark.sql.functions import explode, expr, split, trim, lower, col"
   ]
  },
  {
   "cell_type": "code",
   "execution_count": 0,
   "metadata": {
    "application/vnd.databricks.v1+cell": {
     "cellMetadata": {
      "byteLimit": 2048000,
      "rowLimit": 10000
     },
     "inputWidgets": {},
     "nuid": "26a62d61-0483-48d6-aafe-27e3fd30e481",
     "showTitle": false,
     "tableResultSettingsMap": {},
     "title": ""
    }
   },
   "outputs": [],
   "source": [
    "class Bronze():\n",
    "  def __init__(self):\n",
    "    self.base_data_dir = \"/FileStore/test\"\n",
    "\n",
    "  def getSchema(self):\n",
    "    return '''InvoiceNumber string, CreatedTime bigint, StoreID string, PosID string, CashierID string,\n",
    "            CustomerType string, CustomerCardNo string, TotalAmount double, NumberOfItems bigint, \n",
    "            PaymentMethod string, TaxableAmount double, CGST double, SGST double, CESS double, \n",
    "            DeliveryType string,\n",
    "            DeliveryAddress struct<AddressLine string, City string, ContactNumber string, PinCode string, State string>,\n",
    "            InvoiceLineItems array<struct<ItemCode string, ItemDescription string, ItemPrice double, ItemQty bigint, TotalValue double>>'''\n",
    "\n",
    "  def readInvoices(self):\n",
    "    return ( spark.readStream\n",
    "            .format(\"json\")\n",
    "            .schema(self.getSchema())\n",
    "            .option(\"cleanSource\", \"archive\")\n",
    "            .option(\"sourceArchiveDir\" , f\"{self.base_data_dir}/data/invoices_archive\")\n",
    "            .load(f\"{self.base_data_dir}/data/invoices\")\n",
    "          )\n",
    "\n",
    "  def process(self):\n",
    "    print(\"Starting Bronze Stream ...\")\n",
    "    invoicesDF = self.readInvoices()\n",
    "    sQuery = ( invoicesDF.writeStream\n",
    "              .queryName(\"bronze-ingestion\")\n",
    "              .format(\"delta\")\n",
    "              .option(\"checkpointLocation\", f\"{self.base_data_dir}/checkpoint/invoices_bz\")\n",
    "              .outputMode(\"append\")\n",
    "              .toTable(\"invoice_bz\")\n",
    "            )\n",
    "    print(\"Done\\n\")\n",
    "    return sQuery\n",
    "\n"
   ]
  },
  {
   "cell_type": "code",
   "execution_count": 0,
   "metadata": {
    "application/vnd.databricks.v1+cell": {
     "cellMetadata": {
      "byteLimit": 2048000,
      "rowLimit": 10000
     },
     "inputWidgets": {},
     "nuid": "5eb9491a-6808-4e28-aecd-80d2702379aa",
     "showTitle": false,
     "tableResultSettingsMap": {},
     "title": ""
    }
   },
   "outputs": [],
   "source": [
    "class Silver():\n",
    "  def __init__(self):\n",
    "    self.base_data_dir = \"/FileStore/test\"\n",
    "  \n",
    "  def readInvoices(self):\n",
    "    return ( spark.readStream\n",
    "            .table(\"invoice_bz\")\n",
    "          )\n",
    "    \n",
    "  def explodeInvoices(self, invoiceDF):\n",
    "    return ( invoiceDF.selectExpr(\"InvoiceNumber\", \"CreatedTime\", \"StoreID\", \"PosID\",\n",
    "                                  \"CustomerType\", \"PaymentMethod\", \"DeliveryType\", \"DeliveryAddress.City\",\"DeliveryAddress.State\",\"DeliveryAddress.PinCode\",\n",
    "                                  \"explode(InvoiceLineItems) as LineItem\")\n",
    "              )\n",
    "    \n",
    "  def flattenInvoices(self, explodedDF):\n",
    "    return ( explodedDF.withColumn(\"ItemCode\", expr(\"LineItem.ItemCode\"))\n",
    "            .withColumn(\"ItemDescription\", expr(\"LineItem.ItemDescription\"))\n",
    "            .withColumn(\"ItemPrice\", expr(\"LineItem.ItemPrice\"))\n",
    "            .withColumn(\"ItemQty\", expr(\"LineItem.ItemQty\"))\n",
    "            .withColumn(\"TotalValue\", expr(\"LineItem.TotalValue\"))\n",
    "            .drop(\"LineItem\")\n",
    "          )\n",
    "    \n",
    "  def appendInvoices(self, flattenedInvoices):\n",
    "    return ( flattenedInvoices.writeStream\n",
    "            .queryName(\"silver-processing\")\n",
    "            .format(\"delta\")\n",
    "            .option(\"checkpointLocation\", f\"{self.base_data_dir}/checkpoint/invoices\")\n",
    "            .outputMode(\"append\")\n",
    "            .toTable(\"invoice_line_items\")\n",
    "          )\n",
    "    \n",
    "  def process(self):\n",
    "    print(\"Starting Silver Stream ...\")\n",
    "    invoicesDF = self.readInvoices()\n",
    "    explodedDF = self.explodeInvoices(invoicesDF)\n",
    "    resultDF = self.flattenInvoices(explodedDF)\n",
    "    sQuery = self.appendInvoices(resultDF)\n",
    "    print(\"Done\\n\")\n",
    "    return sQuery\n",
    "\n"
   ]
  }
 ],
 "metadata": {
  "application/vnd.databricks.v1+notebook": {
   "computePreferences": null,
   "dashboards": [],
   "environmentMetadata": {
    "base_environment": "",
    "environment_version": "1"
   },
   "inputWidgetPreferences": null,
   "language": "python",
   "notebookMetadata": {
    "pythonIndentUnit": 2
   },
   "notebookName": "Medallion-Approach",
   "widgets": {}
  }
 },
 "nbformat": 4,
 "nbformat_minor": 0
}