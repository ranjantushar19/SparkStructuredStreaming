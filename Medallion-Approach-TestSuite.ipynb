{
 "cells": [
  {
   "cell_type": "code",
   "execution_count": 0,
   "metadata": {
    "application/vnd.databricks.v1+cell": {
     "cellMetadata": {
      "byteLimit": 2048000,
      "rowLimit": 10000
     },
     "inputWidgets": {},
     "nuid": "ee98002b-3682-4748-8857-c3ee55f73f41",
     "showTitle": false,
     "tableResultSettingsMap": {},
     "title": ""
    }
   },
   "outputs": [],
   "source": [
    "%run ./Medallion-Approach"
   ]
  },
  {
   "cell_type": "code",
   "execution_count": 0,
   "metadata": {
    "application/vnd.databricks.v1+cell": {
     "cellMetadata": {
      "byteLimit": 2048000,
      "rowLimit": 10000
     },
     "inputWidgets": {},
     "nuid": "927eab17-c086-47f6-bfa5-311422e66a21",
     "showTitle": false,
     "tableResultSettingsMap": {},
     "title": ""
    }
   },
   "outputs": [],
   "source": [
    "import time\n",
    "import random\n",
    "from pyspark.sql.functions import expr"
   ]
  },
  {
   "cell_type": "code",
   "execution_count": 0,
   "metadata": {
    "application/vnd.databricks.v1+cell": {
     "cellMetadata": {
      "byteLimit": 2048000,
      "rowLimit": 10000
     },
     "inputWidgets": {},
     "nuid": "0b3c623c-6066-41c1-86aa-99fa1617d116",
     "showTitle": false,
     "tableResultSettingsMap": {},
     "title": ""
    }
   },
   "outputs": [],
   "source": [
    "class medallionApproachTestSuite():\n",
    "  def __init__(self):\n",
    "    self.base_data_dir = \"/FileStore/test\"\n",
    "  \n",
    "  def cleanTest(self):\n",
    "    print(\"Starting cleanup ...\")\n",
    "    spark.sql(\"drop table if exists invoice_bz\")\n",
    "    spark.sql(\"drop table if exists invoice_line_items\")\n",
    "\n",
    "    dbutils.fs.rm(\"/user/hive/warehouse/invoice_bz\", True)\n",
    "    dbutils.fs.rm(\"/user/hive/warehouse/invoice_line_items\", True)\n",
    "\n",
    "    dbutils.fs.rm(f\"{self.base_data_dir}/checkpoint/invoices_bz\", True)\n",
    "    dbutils.fs.rm(f\"{self.base_data_dir}/checkpoint/invoices\", True)\n",
    "\n",
    "    dbutils.fs.rm(f\"{self.base_data_dir}/data/invoices\", True)\n",
    "    dbutils.fs.rm(f\"{self.base_data_dir}/data/invoices_archive\", True)\n",
    "\n",
    "    dbutils.fs.mkdirs(f\"{self.base_data_dir}/data/invoices\")\n",
    "    print(\"Done.\")\n",
    "\n",
    "  def ingestData(self, itr):\n",
    "    print(f\"Starting ingestion of file # {itr}...\", end='')\n",
    "    dbutils.fs.cp(f\"{self.base_data_dir}/invoices_{itr}.json\", f\"{self.base_data_dir}/data/invoices/\")\n",
    "    print(\"Done.\\n\")\n",
    "\n",
    "  def assertResult(self, expected_count):\n",
    "    actual_count = spark.sql(\"select count(*) from invoice_line_items\").collect()[0][0]\n",
    "    assert expected_count == actual_count, f\"Test Failed! Actual count is {actual_count}\"\n",
    "  \n",
    "  def waitForMicroBatch(self, sleep=30):\n",
    "    print(f\"Waiting for {sleep} seconds ...\")\n",
    "    time.sleep(sleep)\n",
    "    print(\"Done.\")\n",
    "  \n",
    "  def runTests(self):\n",
    "    self.cleanTest()\n",
    "\n",
    "    bzStream = Bronze()\n",
    "    bzQuery = bzStream.process()\n",
    "\n",
    "    slStream = Silver()\n",
    "    slQuery = slStream.process()\n",
    "\n",
    "    print(\"Testing first iteration of invoice stream ...\")\n",
    "    self.ingestData(1)\n",
    "    self.waitForMicroBatch()\n",
    "    self.assertResult(1253)\n",
    "    print(\"First iteration of invoice stream completed.\\n\")\n",
    "\n",
    "    print(\"Testing second iteration of invoice stream ...\")\n",
    "    self.ingestData(2)\n",
    "    self.waitForMicroBatch()\n",
    "    self.assertResult(2510)\n",
    "    print(\"Third iteration of invoice stream completed.\\n\")\n",
    "\n",
    "    print(\"Testing third iteration of invoice stream ...\")\n",
    "    self.ingestData(3)\n",
    "    self.waitForMicroBatch()\n",
    "    self.assertResult(3994)\n",
    "    print(\"Third iteration of invoice stream completed.\\n\")\n",
    "\n",
    "    bzQuery.stop()\n",
    "    slQuery.stop()\n",
    "\n",
    "    print(\"Validating Archive...\", end=\"\")\n",
    "    archives_expected = [\"invoices_1.json\", \"invoices_2.json\"]\n",
    "    for f in dbutils.fs.ls(f\"{self.base_data_dir}/data/invoices_archive/{self.base_data_dir}/data/invoices\"):\n",
    "      assert f.name in archives_expected, f\"Archive Validation failed for {f.name}\"\n",
    "    print(\"Done\")"
   ]
  },
  {
   "cell_type": "code",
   "execution_count": 0,
   "metadata": {
    "application/vnd.databricks.v1+cell": {
     "cellMetadata": {
      "byteLimit": 2048000,
      "rowLimit": 10000
     },
     "inputWidgets": {},
     "nuid": "af299ded-f48d-4657-badc-478e8370d083",
     "showTitle": false,
     "tableResultSettingsMap": {},
     "title": ""
    }
   },
   "outputs": [
    {
     "output_type": "stream",
     "name": "stdout",
     "output_type": "stream",
     "text": [
      "\n\n\n\n\n\n\n\n######################################################################################\nGoing to sleep for iteration # 0. Will be sleeping for 5 seconds.\n######################################################################################\n\n\nStarting cleanup ...\nDone.\nStarting Bronze Stream ...\nDone\n\nStarting Silver Stream ...\nDone\n\nTesting first iteration of invoice stream ...\nStarting ingestion of file # 1...Done.\n\nWaiting for 30 seconds ...\nDone.\nFirst iteration of invoice stream completed.\n\nTesting second iteration of invoice stream ...\nStarting ingestion of file # 2...Done.\n\nWaiting for 30 seconds ...\nDone.\nThird iteration of invoice stream completed.\n\nTesting third iteration of invoice stream ...\nStarting ingestion of file # 3...Done.\n\nWaiting for 30 seconds ...\nDone.\nThird iteration of invoice stream completed.\n\nValidating Archive...Done\n\n\n\n\n\n\n\n\n######################################################################################\nGoing to sleep for iteration # 1. Will be sleeping for 7 seconds.\n######################################################################################\n\n\nStarting cleanup ...\nDone.\nStarting Bronze Stream ...\nDone\n\nStarting Silver Stream ...\nDone\n\nTesting first iteration of invoice stream ...\nStarting ingestion of file # 1...Done.\n\nWaiting for 30 seconds ...\nDone.\nFirst iteration of invoice stream completed.\n\nTesting second iteration of invoice stream ...\nStarting ingestion of file # 2...Done.\n\nWaiting for 30 seconds ...\nDone.\nThird iteration of invoice stream completed.\n\nTesting third iteration of invoice stream ...\nStarting ingestion of file # 3...Done.\n\nWaiting for 30 seconds ...\nDone.\nThird iteration of invoice stream completed.\n\nValidating Archive...Done\n\n\n\n\n\n\n\n\n######################################################################################\nGoing to sleep for iteration # 2. Will be sleeping for 6 seconds.\n######################################################################################\n\n\nStarting cleanup ...\nDone.\nStarting Bronze Stream ...\nDone\n\nStarting Silver Stream ...\nDone\n\nTesting first iteration of invoice stream ...\nStarting ingestion of file # 1...Done.\n\nWaiting for 30 seconds ...\nDone.\nFirst iteration of invoice stream completed.\n\nTesting second iteration of invoice stream ...\nStarting ingestion of file # 2...Done.\n\nWaiting for 30 seconds ...\nDone.\nThird iteration of invoice stream completed.\n\nTesting third iteration of invoice stream ...\nStarting ingestion of file # 3...Done.\n\nWaiting for 30 seconds ...\nDone.\nThird iteration of invoice stream completed.\n\nValidating Archive...Done\n\n\n\n\n\n\n\n\n######################################################################################\nGoing to sleep for iteration # 3. Will be sleeping for 8 seconds.\n######################################################################################\n\n\nStarting cleanup ...\nDone.\nStarting Bronze Stream ...\nDone\n\nStarting Silver Stream ...\nDone\n\nTesting first iteration of invoice stream ...\nStarting ingestion of file # 1...Done.\n\nWaiting for 30 seconds ...\nDone.\nFirst iteration of invoice stream completed.\n\nTesting second iteration of invoice stream ...\nStarting ingestion of file # 2...Done.\n\nWaiting for 30 seconds ...\nDone.\nThird iteration of invoice stream completed.\n\nTesting third iteration of invoice stream ...\nStarting ingestion of file # 3...Done.\n\nWaiting for 30 seconds ...\nDone.\nThird iteration of invoice stream completed.\n\nValidating Archive...Done\n\n\n\n\n\n\n\n\n######################################################################################\nGoing to sleep for iteration # 4. Will be sleeping for 8 seconds.\n######################################################################################\n\n\nStarting cleanup ...\nDone.\nStarting Bronze Stream ...\nDone\n\nStarting Silver Stream ...\nDone\n\nTesting first iteration of invoice stream ...\nStarting ingestion of file # 1...Done.\n\nWaiting for 30 seconds ...\nDone.\nFirst iteration of invoice stream completed.\n\nTesting second iteration of invoice stream ...\nStarting ingestion of file # 2...Done.\n\nWaiting for 30 seconds ...\nDone.\nThird iteration of invoice stream completed.\n\nTesting third iteration of invoice stream ...\nStarting ingestion of file # 3...Done.\n\nWaiting for 30 seconds ...\nDone.\nThird iteration of invoice stream completed.\n\nValidating Archive...Done\n\n\n\n\n\n\n\n\n######################################################################################\nGoing to sleep for iteration # 5. Will be sleeping for 8 seconds.\n######################################################################################\n\n\nStarting cleanup ...\nDone.\nStarting Bronze Stream ...\nDone\n\nStarting Silver Stream ...\nDone\n\nTesting first iteration of invoice stream ...\nStarting ingestion of file # 1...Done.\n\nWaiting for 30 seconds ...\nDone.\nFirst iteration of invoice stream completed.\n\nTesting second iteration of invoice stream ...\nStarting ingestion of file # 2...Done.\n\nWaiting for 30 seconds ...\nDone.\nThird iteration of invoice stream completed.\n\nTesting third iteration of invoice stream ...\nStarting ingestion of file # 3...Done.\n\nWaiting for 30 seconds ...\nDone.\nThird iteration of invoice stream completed.\n\nValidating Archive...Done\n\n\n\n\n\n\n\n\n######################################################################################\nGoing to sleep for iteration # 6. Will be sleeping for 7 seconds.\n######################################################################################\n\n\nStarting cleanup ...\nDone.\nStarting Bronze Stream ...\nDone\n\nStarting Silver Stream ...\nDone\n\nTesting first iteration of invoice stream ...\nStarting ingestion of file # 1...Done.\n\nWaiting for 30 seconds ...\nDone.\nFirst iteration of invoice stream completed.\n\nTesting second iteration of invoice stream ...\nStarting ingestion of file # 2...Done.\n\nWaiting for 30 seconds ...\nDone.\nThird iteration of invoice stream completed.\n\nTesting third iteration of invoice stream ...\nStarting ingestion of file # 3...Done.\n\nWaiting for 30 seconds ...\nDone.\nThird iteration of invoice stream completed.\n\nValidating Archive...Done\n\n\n\n\n\n\n\n\n######################################################################################\nGoing to sleep for iteration # 7. Will be sleeping for 5 seconds.\n######################################################################################\n\n\nStarting cleanup ...\nDone.\nStarting Bronze Stream ...\nDone\n\nStarting Silver Stream ...\nDone\n\nTesting first iteration of invoice stream ...\nStarting ingestion of file # 1...Done.\n\nWaiting for 30 seconds ...\nDone.\nFirst iteration of invoice stream completed.\n\nTesting second iteration of invoice stream ...\nStarting ingestion of file # 2...Done.\n\nWaiting for 30 seconds ...\nDone.\nThird iteration of invoice stream completed.\n\nTesting third iteration of invoice stream ...\nStarting ingestion of file # 3...Done.\n\nWaiting for 30 seconds ...\nDone.\nThird iteration of invoice stream completed.\n\nValidating Archive...Done\n\n\n\n\n\n\n\n\n######################################################################################\nGoing to sleep for iteration # 8. Will be sleeping for 5 seconds.\n######################################################################################\n\n\nStarting cleanup ...\nDone.\nStarting Bronze Stream ...\nDone\n\nStarting Silver Stream ...\nDone\n\nTesting first iteration of invoice stream ...\nStarting ingestion of file # 1...Done.\n\nWaiting for 30 seconds ...\nDone.\nFirst iteration of invoice stream completed.\n\nTesting second iteration of invoice stream ...\nStarting ingestion of file # 2...Done.\n\nWaiting for 30 seconds ...\nDone.\nThird iteration of invoice stream completed.\n\nTesting third iteration of invoice stream ...\nStarting ingestion of file # 3...Done.\n\nWaiting for 30 seconds ...\nDone.\nThird iteration of invoice stream completed.\n\nValidating Archive...Done\n\n\n\n\n\n\n\n\n######################################################################################\nGoing to sleep for iteration # 9. Will be sleeping for 5 seconds.\n######################################################################################\n\n\nStarting cleanup ...\nDone.\nStarting Bronze Stream ...\nDone\n\nStarting Silver Stream ...\nDone\n\nTesting first iteration of invoice stream ...\nStarting ingestion of file # 1...Done.\n\nWaiting for 30 seconds ...\nDone.\nFirst iteration of invoice stream completed.\n\nTesting second iteration of invoice stream ...\nStarting ingestion of file # 2...Done.\n\nWaiting for 30 seconds ...\nDone.\nThird iteration of invoice stream completed.\n\nTesting third iteration of invoice stream ...\nStarting ingestion of file # 3...Done.\n\nWaiting for 30 seconds ...\nDone.\nThird iteration of invoice stream completed.\n\nValidating Archive...Done\n\n\n\n\n\n\n\n\n######################################################################################\nGoing to sleep for iteration # 10. Will be sleeping for 6 seconds.\n######################################################################################\n\n\nStarting cleanup ...\nDone.\nStarting Bronze Stream ...\nDone\n\nStarting Silver Stream ...\nDone\n\nTesting first iteration of invoice stream ...\nStarting ingestion of file # 1...Done.\n\nWaiting for 30 seconds ...\nDone.\nFirst iteration of invoice stream completed.\n\nTesting second iteration of invoice stream ...\nStarting ingestion of file # 2...Done.\n\nWaiting for 30 seconds ...\nDone.\nThird iteration of invoice stream completed.\n\nTesting third iteration of invoice stream ...\nStarting ingestion of file # 3...Done.\n\nWaiting for 30 seconds ...\nDone.\nThird iteration of invoice stream completed.\n\nValidating Archive...Done\n\n\n\n\n\n\n\n\n######################################################################################\nGoing to sleep for iteration # 11. Will be sleeping for 5 seconds.\n######################################################################################\n\n\nStarting cleanup ...\nDone.\nStarting Bronze Stream ...\nDone\n\nStarting Silver Stream ...\nDone\n\nTesting first iteration of invoice stream ...\nStarting ingestion of file # 1...Done.\n\nWaiting for 30 seconds ...\nDone.\nFirst iteration of invoice stream completed.\n\nTesting second iteration of invoice stream ...\nStarting ingestion of file # 2...Done.\n\nWaiting for 30 seconds ...\nDone.\nThird iteration of invoice stream completed.\n\nTesting third iteration of invoice stream ...\nStarting ingestion of file # 3...Done.\n\nWaiting for 30 seconds ...\nDone.\nThird iteration of invoice stream completed.\n\nValidating Archive...Done\n\n\n\n\n\n\n\n\n######################################################################################\nGoing to sleep for iteration # 12. Will be sleeping for 6 seconds.\n######################################################################################\n\n\nStarting cleanup ...\nDone.\nStarting Bronze Stream ...\nDone\n\nStarting Silver Stream ...\nDone\n\nTesting first iteration of invoice stream ...\nStarting ingestion of file # 1...Done.\n\nWaiting for 30 seconds ...\nDone.\nFirst iteration of invoice stream completed.\n\nTesting second iteration of invoice stream ...\nStarting ingestion of file # 2...Done.\n\nWaiting for 30 seconds ...\nDone.\nThird iteration of invoice stream completed.\n\nTesting third iteration of invoice stream ...\nStarting ingestion of file # 3...Done.\n\nWaiting for 30 seconds ...\nDone.\nThird iteration of invoice stream completed.\n\nValidating Archive...Done\n\n\n\n\n\n\n\n\n######################################################################################\nGoing to sleep for iteration # 13. Will be sleeping for 6 seconds.\n######################################################################################\n\n\nStarting cleanup ...\nDone.\nStarting Bronze Stream ...\nDone\n\nStarting Silver Stream ...\nDone\n\nTesting first iteration of invoice stream ...\nStarting ingestion of file # 1...Done.\n\nWaiting for 30 seconds ...\nDone.\nFirst iteration of invoice stream completed.\n\nTesting second iteration of invoice stream ...\nStarting ingestion of file # 2...Done.\n\nWaiting for 30 seconds ...\nDone.\nThird iteration of invoice stream completed.\n\nTesting third iteration of invoice stream ...\nStarting ingestion of file # 3...Done.\n\nWaiting for 30 seconds ...\nDone.\nThird iteration of invoice stream completed.\n\nValidating Archive...Done\n\n\n\n\n\n\n\n\n######################################################################################\nGoing to sleep for iteration # 14. Will be sleeping for 8 seconds.\n######################################################################################\n\n\nStarting cleanup ...\nDone.\nStarting Bronze Stream ...\nDone\n\nStarting Silver Stream ...\nDone\n\nTesting first iteration of invoice stream ...\nStarting ingestion of file # 1...Done.\n\nWaiting for 30 seconds ...\nDone.\nFirst iteration of invoice stream completed.\n\nTesting second iteration of invoice stream ...\nStarting ingestion of file # 2...Done.\n\nWaiting for 30 seconds ...\nDone.\nThird iteration of invoice stream completed.\n\nTesting third iteration of invoice stream ...\nStarting ingestion of file # 3...Done.\n\nWaiting for 30 seconds ...\nDone.\nThird iteration of invoice stream completed.\n\nValidating Archive...Done\n\n\n\n\n\n\n\n\n######################################################################################\nGoing to sleep for iteration # 15. Will be sleeping for 6 seconds.\n######################################################################################\n\n\nStarting cleanup ...\nDone.\nStarting Bronze Stream ...\nDone\n\nStarting Silver Stream ...\nDone\n\nTesting first iteration of invoice stream ...\nStarting ingestion of file # 1...Done.\n\nWaiting for 30 seconds ...\nDone.\nFirst iteration of invoice stream completed.\n\nTesting second iteration of invoice stream ...\nStarting ingestion of file # 2...Done.\n\nWaiting for 30 seconds ...\nDone.\nThird iteration of invoice stream completed.\n\nTesting third iteration of invoice stream ...\nStarting ingestion of file # 3...Done.\n\nWaiting for 30 seconds ...\nDone.\nThird iteration of invoice stream completed.\n\nValidating Archive...Done\n\n\n\n\n\n\n\n\n######################################################################################\nGoing to sleep for iteration # 16. Will be sleeping for 6 seconds.\n######################################################################################\n\n\nStarting cleanup ...\nDone.\nStarting Bronze Stream ...\nDone\n\nStarting Silver Stream ...\nDone\n\nTesting first iteration of invoice stream ...\nStarting ingestion of file # 1...Done.\n\nWaiting for 30 seconds ...\nDone.\nFirst iteration of invoice stream completed.\n\nTesting second iteration of invoice stream ...\nStarting ingestion of file # 2...Done.\n\nWaiting for 30 seconds ...\nDone.\nThird iteration of invoice stream completed.\n\nTesting third iteration of invoice stream ...\nStarting ingestion of file # 3...Done.\n\nWaiting for 30 seconds ...\nDone.\nThird iteration of invoice stream completed.\n\nValidating Archive...Done\n\n\n\n\n\n\n\n\n######################################################################################\nGoing to sleep for iteration # 17. Will be sleeping for 6 seconds.\n######################################################################################\n\n\nStarting cleanup ...\nDone.\nStarting Bronze Stream ...\nDone\n\nStarting Silver Stream ...\nDone\n\nTesting first iteration of invoice stream ...\nStarting ingestion of file # 1...Done.\n\nWaiting for 30 seconds ...\nDone.\nFirst iteration of invoice stream completed.\n\nTesting second iteration of invoice stream ...\nStarting ingestion of file # 2...Done.\n\nWaiting for 30 seconds ...\nDone.\nThird iteration of invoice stream completed.\n\nTesting third iteration of invoice stream ...\nStarting ingestion of file # 3...Done.\n\nWaiting for 30 seconds ...\nDone.\nThird iteration of invoice stream completed.\n\nValidating Archive...Done\n\n\n\n\n\n\n\n\n######################################################################################\nGoing to sleep for iteration # 18. Will be sleeping for 6 seconds.\n######################################################################################\n\n\nStarting cleanup ...\nDone.\nStarting Bronze Stream ...\nDone\n\nStarting Silver Stream ...\nDone\n\nTesting first iteration of invoice stream ...\nStarting ingestion of file # 1...Done.\n\nWaiting for 30 seconds ...\nDone.\nFirst iteration of invoice stream completed.\n\nTesting second iteration of invoice stream ...\nStarting ingestion of file # 2...Done.\n\nWaiting for 30 seconds ...\nDone.\nThird iteration of invoice stream completed.\n\nTesting third iteration of invoice stream ...\nStarting ingestion of file # 3...Done.\n\nWaiting for 30 seconds ...\nDone.\nThird iteration of invoice stream completed.\n\nValidating Archive...Done\n\n\n\n\n\n\n\n\n######################################################################################\nGoing to sleep for iteration # 19. Will be sleeping for 5 seconds.\n######################################################################################\n\n\nStarting cleanup ...\nDone.\nStarting Bronze Stream ...\nDone\n\nStarting Silver Stream ...\nDone\n\nTesting first iteration of invoice stream ...\nStarting ingestion of file # 1...Done.\n\nWaiting for 30 seconds ...\nDone.\nFirst iteration of invoice stream completed.\n\nTesting second iteration of invoice stream ...\nStarting ingestion of file # 2...Done.\n\nWaiting for 30 seconds ...\nDone.\nThird iteration of invoice stream completed.\n\nTesting third iteration of invoice stream ...\nStarting ingestion of file # 3...Done.\n\nWaiting for 30 seconds ...\nDone.\nThird iteration of invoice stream completed.\n\nValidating Archive...Done\n\n\n\n\n\n\n\n\n######################################################################################\nGoing to sleep for iteration # 20. Will be sleeping for 6 seconds.\n######################################################################################\n\n\nStarting cleanup ...\nDone.\nStarting Bronze Stream ...\nDone\n\nStarting Silver Stream ...\nDone\n\nTesting first iteration of invoice stream ...\nStarting ingestion of file # 1...Done.\n\nWaiting for 30 seconds ...\nDone.\nFirst iteration of invoice stream completed.\n\nTesting second iteration of invoice stream ...\nStarting ingestion of file # 2...Done.\n\nWaiting for 30 seconds ...\nDone.\nThird iteration of invoice stream completed.\n\nTesting third iteration of invoice stream ...\nStarting ingestion of file # 3...Done.\n\nWaiting for 30 seconds ...\nDone.\nThird iteration of invoice stream completed.\n\nValidating Archive...Done\n\n\n\n\n\n\n\n\n######################################################################################\nGoing to sleep for iteration # 21. Will be sleeping for 8 seconds.\n######################################################################################\n\n\nStarting cleanup ...\nDone.\nStarting Bronze Stream ...\nDone\n\nStarting Silver Stream ...\nDone\n\nTesting first iteration of invoice stream ...\nStarting ingestion of file # 1...Done.\n\nWaiting for 30 seconds ...\nDone.\nFirst iteration of invoice stream completed.\n\nTesting second iteration of invoice stream ...\nStarting ingestion of file # 2...Done.\n\nWaiting for 30 seconds ...\nDone.\nThird iteration of invoice stream completed.\n\nTesting third iteration of invoice stream ...\nStarting ingestion of file # 3...Done.\n\nWaiting for 30 seconds ...\nDone.\nThird iteration of invoice stream completed.\n\nValidating Archive...Done\n\n\n\n\n\n\n\n\n######################################################################################\nGoing to sleep for iteration # 22. Will be sleeping for 7 seconds.\n######################################################################################\n\n\nStarting cleanup ...\nDone.\nStarting Bronze Stream ...\nDone\n\nStarting Silver Stream ...\nDone\n\nTesting first iteration of invoice stream ...\nStarting ingestion of file # 1...Done.\n\nWaiting for 30 seconds ...\nDone.\nFirst iteration of invoice stream completed.\n\nTesting second iteration of invoice stream ...\nStarting ingestion of file # 2...Done.\n\nWaiting for 30 seconds ...\nDone.\nThird iteration of invoice stream completed.\n\nTesting third iteration of invoice stream ...\nStarting ingestion of file # 3...Done.\n\nWaiting for 30 seconds ...\nDone.\nThird iteration of invoice stream completed.\n\nValidating Archive...Done\n\n\n\n\n\n\n\n\n######################################################################################\nGoing to sleep for iteration # 23. Will be sleeping for 6 seconds.\n######################################################################################\n\n\nStarting cleanup ...\nDone.\nStarting Bronze Stream ...\nDone\n\nStarting Silver Stream ...\nDone\n\nTesting first iteration of invoice stream ...\nStarting ingestion of file # 1...Done.\n\nWaiting for 30 seconds ...\nDone.\nFirst iteration of invoice stream completed.\n\nTesting second iteration of invoice stream ...\nStarting ingestion of file # 2...Done.\n\nWaiting for 30 seconds ...\nDone.\nThird iteration of invoice stream completed.\n\nTesting third iteration of invoice stream ...\nStarting ingestion of file # 3...Done.\n\nWaiting for 30 seconds ...\nDone.\nThird iteration of invoice stream completed.\n\nValidating Archive...Done\n\n\n\n\n\n\n\n\n######################################################################################\nGoing to sleep for iteration # 24. Will be sleeping for 8 seconds.\n######################################################################################\n\n\nStarting cleanup ...\nDone.\nStarting Bronze Stream ...\nDone\n\nStarting Silver Stream ...\nDone\n\nTesting first iteration of invoice stream ...\nStarting ingestion of file # 1...Done.\n\nWaiting for 30 seconds ...\nDone.\nFirst iteration of invoice stream completed.\n\nTesting second iteration of invoice stream ...\nStarting ingestion of file # 2...Done.\n\nWaiting for 30 seconds ...\nDone.\nThird iteration of invoice stream completed.\n\nTesting third iteration of invoice stream ...\nStarting ingestion of file # 3...Done.\n\nWaiting for 30 seconds ...\nDone.\nThird iteration of invoice stream completed.\n\nValidating Archive...Done\n"
     ]
    }
   ],
   "source": [
    "maTS = medallionApproachTestSuite()\n",
    "maTS.runTests()"
   ]
  }
 ],
 "metadata": {
  "application/vnd.databricks.v1+notebook": {
   "computePreferences": null,
   "dashboards": [],
   "environmentMetadata": {
    "base_environment": "",
    "environment_version": "1"
   },
   "inputWidgetPreferences": null,
   "language": "python",
   "notebookMetadata": {
    "pythonIndentUnit": 2
   },
   "notebookName": "Medallion-Approach-TestSuite",
   "widgets": {}
  }
 },
 "nbformat": 4,
 "nbformat_minor": 0
}